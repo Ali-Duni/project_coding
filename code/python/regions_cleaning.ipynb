{
 "cells": [
  {
   "cell_type": "code",
   "execution_count": 1,
   "id": "1425ba5a",
   "metadata": {},
   "outputs": [],
   "source": [
    "##importing relevant packages\n",
    "import pandas as pd\n",
    "import numpy as np\n",
    "import warnings\n",
    "\n",
    "warnings.filterwarnings(\"ignore\")"
   ]
  },
  {
   "cell_type": "code",
   "execution_count": 2,
   "id": "aa990c14",
   "metadata": {},
   "outputs": [],
   "source": [
    "##importing the dataset\n",
    "data_raw = pd.read_csv(\"https://raw.githubusercontent.com/Ali-Duni/project_coding/refs/heads/main/data/raw/WDI_regions_raw.csv\")"
   ]
  },
  {
   "cell_type": "code",
   "execution_count": 3,
   "id": "307e4e02",
   "metadata": {},
   "outputs": [
    {
     "data": {
      "text/html": [
       "<div>\n",
       "<style scoped>\n",
       "    .dataframe tbody tr th:only-of-type {\n",
       "        vertical-align: middle;\n",
       "    }\n",
       "\n",
       "    .dataframe tbody tr th {\n",
       "        vertical-align: top;\n",
       "    }\n",
       "\n",
       "    .dataframe thead th {\n",
       "        text-align: right;\n",
       "    }\n",
       "</style>\n",
       "<table border=\"1\" class=\"dataframe\">\n",
       "  <thead>\n",
       "    <tr style=\"text-align: right;\">\n",
       "      <th></th>\n",
       "      <th>Time</th>\n",
       "      <th>Time Code</th>\n",
       "      <th>Country Name</th>\n",
       "      <th>Country Code</th>\n",
       "      <th>Mortality rate, under-5 (per 1,000 live births) [SH.DYN.MORT]</th>\n",
       "      <th>Immunization, measles (% of children ages 12-23 months) [SH.IMM.MEAS]</th>\n",
       "    </tr>\n",
       "  </thead>\n",
       "  <tbody>\n",
       "    <tr>\n",
       "      <th>0</th>\n",
       "      <td>1960</td>\n",
       "      <td>YR1960</td>\n",
       "      <td>East Asia &amp; Pacific</td>\n",
       "      <td>EAS</td>\n",
       "      <td>..</td>\n",
       "      <td>..</td>\n",
       "    </tr>\n",
       "    <tr>\n",
       "      <th>1</th>\n",
       "      <td>1960</td>\n",
       "      <td>YR1960</td>\n",
       "      <td>Europe &amp; Central Asia</td>\n",
       "      <td>ECS</td>\n",
       "      <td>..</td>\n",
       "      <td>..</td>\n",
       "    </tr>\n",
       "    <tr>\n",
       "      <th>2</th>\n",
       "      <td>1960</td>\n",
       "      <td>YR1960</td>\n",
       "      <td>Latin America &amp; Caribbean</td>\n",
       "      <td>LCN</td>\n",
       "      <td>..</td>\n",
       "      <td>..</td>\n",
       "    </tr>\n",
       "    <tr>\n",
       "      <th>3</th>\n",
       "      <td>1960</td>\n",
       "      <td>YR1960</td>\n",
       "      <td>Middle East &amp; North Africa</td>\n",
       "      <td>MEA</td>\n",
       "      <td>..</td>\n",
       "      <td>..</td>\n",
       "    </tr>\n",
       "    <tr>\n",
       "      <th>4</th>\n",
       "      <td>1960</td>\n",
       "      <td>YR1960</td>\n",
       "      <td>South Asia</td>\n",
       "      <td>SAS</td>\n",
       "      <td>..</td>\n",
       "      <td>..</td>\n",
       "    </tr>\n",
       "  </tbody>\n",
       "</table>\n",
       "</div>"
      ],
      "text/plain": [
       "   Time Time Code                Country Name Country Code  \\\n",
       "0  1960    YR1960         East Asia & Pacific          EAS   \n",
       "1  1960    YR1960       Europe & Central Asia          ECS   \n",
       "2  1960    YR1960   Latin America & Caribbean          LCN   \n",
       "3  1960    YR1960  Middle East & North Africa          MEA   \n",
       "4  1960    YR1960                  South Asia          SAS   \n",
       "\n",
       "  Mortality rate, under-5 (per 1,000 live births) [SH.DYN.MORT]  \\\n",
       "0                                                 ..              \n",
       "1                                                 ..              \n",
       "2                                                 ..              \n",
       "3                                                 ..              \n",
       "4                                                 ..              \n",
       "\n",
       "  Immunization, measles (% of children ages 12-23 months) [SH.IMM.MEAS]  \n",
       "0                                                 ..                     \n",
       "1                                                 ..                     \n",
       "2                                                 ..                     \n",
       "3                                                 ..                     \n",
       "4                                                 ..                     "
      ]
     },
     "execution_count": 3,
     "metadata": {},
     "output_type": "execute_result"
    }
   ],
   "source": [
    "##inspecting first few rows\n",
    "data_raw.head()"
   ]
  },
  {
   "cell_type": "code",
   "execution_count": 4,
   "id": "db9fbeb1",
   "metadata": {},
   "outputs": [],
   "source": [
    "##first, the variables of interest seem to have a uselessly long name\n",
    "##I will create a dictionary containing pairs of the original names and the new names and then use it to rename columns in the df\n",
    "names_columns = {\n",
    "    \"Mortality rate, under-5 (per 1,000 live births) [SH.DYN.MORT]\": \"child_mortality_rate\",\n",
    "    \"Immunization, measles (% of children ages 12-23 months) [SH.IMM.MEAS]\": \"immunization_rate\",\n",
    "    \"Country Name\": \"region\"\n",
    "}\n",
    "data_raw.rename(names_columns, axis=\"columns\", inplace=True)"
   ]
  },
  {
   "cell_type": "code",
   "execution_count": 5,
   "id": "619b46e0",
   "metadata": {},
   "outputs": [],
   "source": [
    "##now, let's get rid of variables we do not need. Time code seems unnecessary, and so does country code. let's remove them from the dataframe\n",
    "##first, I will create a list of columns i want to keep. This will also be useful later on\n",
    "vars_to_keep = [\"child_mortality_rate\", \"immunization_rate\", \"region\", \"Time\"]\n",
    "data_raw = data_raw.filter(items=vars_to_keep)"
   ]
  },
  {
   "cell_type": "code",
   "execution_count": 6,
   "id": "73b2a13d",
   "metadata": {},
   "outputs": [
    {
     "data": {
      "text/plain": [
       "5"
      ]
     },
     "execution_count": 6,
     "metadata": {},
     "output_type": "execute_result"
    }
   ],
   "source": [
    "##let's now filter our dataframe from missing values. first, let's check the NAs for mortality rate\n",
    "data_raw[\"child_mortality_rate\"].isna().sum()"
   ]
  },
  {
   "cell_type": "code",
   "execution_count": 9,
   "id": "33fb6493",
   "metadata": {},
   "outputs": [],
   "source": [
    "##this does not seem to be correct, since there are also a lot of observations which use .. in place of NaN. let's fix that\n",
    "data_raw.replace(\"..\", pd.NA, inplace=True)"
   ]
  },
  {
   "cell_type": "code",
   "execution_count": 10,
   "id": "7e427cab",
   "metadata": {},
   "outputs": [
    {
     "data": {
      "text/html": [
       "<div>\n",
       "<style scoped>\n",
       "    .dataframe tbody tr th:only-of-type {\n",
       "        vertical-align: middle;\n",
       "    }\n",
       "\n",
       "    .dataframe tbody tr th {\n",
       "        vertical-align: top;\n",
       "    }\n",
       "\n",
       "    .dataframe thead th {\n",
       "        text-align: right;\n",
       "    }\n",
       "</style>\n",
       "<table border=\"1\" class=\"dataframe\">\n",
       "  <thead>\n",
       "    <tr style=\"text-align: right;\">\n",
       "      <th></th>\n",
       "      <th>child_mortality_rate</th>\n",
       "      <th>immunization_rate</th>\n",
       "      <th>region</th>\n",
       "      <th>Time</th>\n",
       "    </tr>\n",
       "  </thead>\n",
       "  <tbody>\n",
       "    <tr>\n",
       "      <th>240</th>\n",
       "      <td>56.8</td>\n",
       "      <td>89.4425347060659</td>\n",
       "      <td>East Asia &amp; Pacific</td>\n",
       "      <td>1990</td>\n",
       "    </tr>\n",
       "    <tr>\n",
       "      <th>242</th>\n",
       "      <td>54.8</td>\n",
       "      <td>75.9339324103451</td>\n",
       "      <td>Latin America &amp; Caribbean</td>\n",
       "      <td>1990</td>\n",
       "    </tr>\n",
       "    <tr>\n",
       "      <th>243</th>\n",
       "      <td>65.4</td>\n",
       "      <td>83.1685040029308</td>\n",
       "      <td>Middle East &amp; North Africa</td>\n",
       "      <td>1990</td>\n",
       "    </tr>\n",
       "    <tr>\n",
       "      <th>244</th>\n",
       "      <td>129.4</td>\n",
       "      <td>55.9756600132649</td>\n",
       "      <td>South Asia</td>\n",
       "      <td>1990</td>\n",
       "    </tr>\n",
       "    <tr>\n",
       "      <th>245</th>\n",
       "      <td>180.5</td>\n",
       "      <td>57.2696648667665</td>\n",
       "      <td>Sub-Saharan Africa</td>\n",
       "      <td>1990</td>\n",
       "    </tr>\n",
       "    <tr>\n",
       "      <th>...</th>\n",
       "      <td>...</td>\n",
       "      <td>...</td>\n",
       "      <td>...</td>\n",
       "      <td>...</td>\n",
       "    </tr>\n",
       "    <tr>\n",
       "      <th>459</th>\n",
       "      <td>23.1</td>\n",
       "      <td>88.301957974945</td>\n",
       "      <td>Middle East &amp; North Africa</td>\n",
       "      <td>2017</td>\n",
       "    </tr>\n",
       "    <tr>\n",
       "      <th>460</th>\n",
       "      <td>44.8</td>\n",
       "      <td>86.0673400859076</td>\n",
       "      <td>South Asia</td>\n",
       "      <td>2017</td>\n",
       "    </tr>\n",
       "    <tr>\n",
       "      <th>461</th>\n",
       "      <td>75.5</td>\n",
       "      <td>69.553651704968</td>\n",
       "      <td>Sub-Saharan Africa</td>\n",
       "      <td>2017</td>\n",
       "    </tr>\n",
       "    <tr>\n",
       "      <th>462</th>\n",
       "      <td>6.5</td>\n",
       "      <td>91.7336873033563</td>\n",
       "      <td>North America</td>\n",
       "      <td>2017</td>\n",
       "    </tr>\n",
       "    <tr>\n",
       "      <th>463</th>\n",
       "      <td>39.1</td>\n",
       "      <td>84.9622265334606</td>\n",
       "      <td>World</td>\n",
       "      <td>2017</td>\n",
       "    </tr>\n",
       "  </tbody>\n",
       "</table>\n",
       "<p>222 rows × 4 columns</p>\n",
       "</div>"
      ],
      "text/plain": [
       "    child_mortality_rate immunization_rate                      region  Time\n",
       "240                 56.8  89.4425347060659         East Asia & Pacific  1990\n",
       "242                 54.8  75.9339324103451   Latin America & Caribbean  1990\n",
       "243                 65.4  83.1685040029308  Middle East & North Africa  1990\n",
       "244                129.4  55.9756600132649                  South Asia  1990\n",
       "245                180.5  57.2696648667665          Sub-Saharan Africa  1990\n",
       "..                   ...               ...                         ...   ...\n",
       "459                 23.1   88.301957974945  Middle East & North Africa  2017\n",
       "460                 44.8  86.0673400859076                  South Asia  2017\n",
       "461                 75.5   69.553651704968          Sub-Saharan Africa  2017\n",
       "462                  6.5  91.7336873033563               North America  2017\n",
       "463                 39.1  84.9622265334606                       World  2017\n",
       "\n",
       "[222 rows x 4 columns]"
      ]
     },
     "execution_count": 10,
     "metadata": {},
     "output_type": "execute_result"
    }
   ],
   "source": [
    "##let's get rid of them for all columns using our previous list\n",
    "data_raw = data_raw.dropna(subset = vars_to_keep)\n",
    "data_raw"
   ]
  },
  {
   "cell_type": "code",
   "execution_count": 11,
   "id": "4c59980d",
   "metadata": {},
   "outputs": [],
   "source": [
    "##this is our cleaned data frame, ready to use for analysis. let us save it\n",
    "data_raw.to_csv(\"data/clean/WDI_regions_cleaned.csv\", index = \"True\")"
   ]
  }
 ],
 "metadata": {
  "kernelspec": {
   "display_name": "Python 3 (ipykernel)",
   "language": "python",
   "name": "python3"
  },
  "language_info": {
   "codemirror_mode": {
    "name": "ipython",
    "version": 3
   },
   "file_extension": ".py",
   "mimetype": "text/x-python",
   "name": "python",
   "nbconvert_exporter": "python",
   "pygments_lexer": "ipython3",
   "version": "3.9.12"
  }
 },
 "nbformat": 4,
 "nbformat_minor": 5
}
